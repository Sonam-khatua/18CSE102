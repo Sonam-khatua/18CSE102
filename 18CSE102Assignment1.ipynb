{
  "nbformat": 4,
  "nbformat_minor": 0,
  "metadata": {
    "colab": {
      "name": "18CSE102Assignment1.ipynb",
      "provenance": []
    },
    "kernelspec": {
      "name": "python3",
      "display_name": "Python 3"
    }
  },
  "cells": [
    {
      "cell_type": "code",
      "metadata": {
        "id": "q6awgtMLPXbu"
      },
      "source": [
        "#Q1.Write a python code to find mean,mode and median"
      ],
      "execution_count": null,
      "outputs": []
    },
    {
      "cell_type": "code",
      "metadata": {
        "id": "U5wF9ZGZPpRh"
      },
      "source": [
        "import numpy"
      ],
      "execution_count": null,
      "outputs": []
    },
    {
      "cell_type": "code",
      "metadata": {
        "id": "JOSKLOq6PvEp"
      },
      "source": [
        "from scipy import stats"
      ],
      "execution_count": null,
      "outputs": []
    },
    {
      "cell_type": "code",
      "metadata": {
        "id": "BZqbjzIMPymI"
      },
      "source": [
        "data = [12,23,34,45,56,11,90,11]"
      ],
      "execution_count": null,
      "outputs": []
    },
    {
      "cell_type": "code",
      "metadata": {
        "id": "j-IRyFIYP218"
      },
      "source": [
        "a = numpy.mean(data)"
      ],
      "execution_count": null,
      "outputs": []
    },
    {
      "cell_type": "code",
      "metadata": {
        "id": "b_gzp9lhP62b"
      },
      "source": [
        "b = stats.mode(data)"
      ],
      "execution_count": null,
      "outputs": []
    },
    {
      "cell_type": "code",
      "metadata": {
        "id": "3xIX1D-lP9Ju"
      },
      "source": [
        "c = numpy.median(data)"
      ],
      "execution_count": null,
      "outputs": []
    },
    {
      "cell_type": "code",
      "metadata": {
        "colab": {
          "base_uri": "https://localhost:8080/"
        },
        "id": "8zjnHkiuP_66",
        "outputId": "a349c944-4689-4d23-d708-8ce79db01556"
      },
      "source": [
        "print('Mean =', a)"
      ],
      "execution_count": null,
      "outputs": [
        {
          "output_type": "stream",
          "text": [
            "Mean = 35.25\n"
          ],
          "name": "stdout"
        }
      ]
    },
    {
      "cell_type": "code",
      "metadata": {
        "colab": {
          "base_uri": "https://localhost:8080/"
        },
        "id": "I_CBojU0QDJi",
        "outputId": "4b20d518-ffbd-41d7-b962-28867120e16b"
      },
      "source": [
        "print('Mode =', b)"
      ],
      "execution_count": null,
      "outputs": [
        {
          "output_type": "stream",
          "text": [
            "Mode = ModeResult(mode=array([11]), count=array([2]))\n"
          ],
          "name": "stdout"
        }
      ]
    },
    {
      "cell_type": "code",
      "metadata": {
        "colab": {
          "base_uri": "https://localhost:8080/"
        },
        "id": "15hPBpUPQF5C",
        "outputId": "0eee6793-2c35-4bdc-e726-49d628961204"
      },
      "source": [
        "print('Median =', c)"
      ],
      "execution_count": null,
      "outputs": [
        {
          "output_type": "stream",
          "text": [
            "Median = 28.5\n"
          ],
          "name": "stdout"
        }
      ]
    },
    {
      "cell_type": "code",
      "metadata": {
        "id": "7gJhovwiQI--"
      },
      "source": [
        "#Q2.Write python code to find variance and standard deviation"
      ],
      "execution_count": null,
      "outputs": []
    },
    {
      "cell_type": "code",
      "metadata": {
        "id": "EJvv8leIQTHG"
      },
      "source": [
        "s = numpy.std(data)"
      ],
      "execution_count": null,
      "outputs": []
    },
    {
      "cell_type": "code",
      "metadata": {
        "id": "dM7_Lg7zQZD3"
      },
      "source": [
        "v = numpy.var(data)"
      ],
      "execution_count": null,
      "outputs": []
    },
    {
      "cell_type": "code",
      "metadata": {
        "colab": {
          "base_uri": "https://localhost:8080/"
        },
        "id": "SLKCgy2WQcPh",
        "outputId": "253ea5b7-cc4c-418e-b872-5bc41320b475"
      },
      "source": [
        "print('Standard Variation =', s)"
      ],
      "execution_count": null,
      "outputs": [
        {
          "output_type": "stream",
          "text": [
            "Standard Variation = 25.96030623856352\n"
          ],
          "name": "stdout"
        }
      ]
    },
    {
      "cell_type": "code",
      "metadata": {
        "colab": {
          "base_uri": "https://localhost:8080/"
        },
        "id": "uGkL2e_IQf-7",
        "outputId": "95fe6826-241c-48cd-8415-1b22f4be80db"
      },
      "source": [
        "print('Variance =', v)"
      ],
      "execution_count": null,
      "outputs": [
        {
          "output_type": "stream",
          "text": [
            "Variance = 673.9375\n"
          ],
          "name": "stdout"
        }
      ]
    },
    {
      "cell_type": "code",
      "metadata": {
        "id": "N_xSHZEQQjO0"
      },
      "source": [
        "#Practice some basics python programs"
      ],
      "execution_count": null,
      "outputs": []
    },
    {
      "cell_type": "code",
      "metadata": {
        "colab": {
          "base_uri": "https://localhost:8080/"
        },
        "id": "TLwdP9NQQoJn",
        "outputId": "fa426229-4842-4146-a125-49a73c27a87a"
      },
      "source": [
        "#write basics operations \n",
        "a = 80\n",
        "b = 20\n",
        "c = a + b\n",
        "print('Addition is:',c)\n",
        "d = a - b\n",
        "print('Sub is:',d)\n",
        "e = a * b\n",
        "print('Mult is:',e)\n",
        "f = a / b\n",
        "print('Div is:',f)"
      ],
      "execution_count": null,
      "outputs": [
        {
          "output_type": "stream",
          "text": [
            "Addition is: 100\n",
            "Sub is: 60\n",
            "Mult is: 1600\n",
            "Div is: 4.0\n"
          ],
          "name": "stdout"
        }
      ]
    },
    {
      "cell_type": "code",
      "metadata": {
        "colab": {
          "base_uri": "https://localhost:8080/"
        },
        "id": "YE3l7rkOQvto",
        "outputId": "2955c645-ab8f-467f-d33c-fb64fa572508"
      },
      "source": [
        "#swap two numbers using temporary variable\n",
        "a = int(input(\"enter first number:\"))\n",
        "b = int(input(\"enter second number:\"))\n",
        "c = a\n",
        "a = b\n",
        "b = c\n",
        "print(\"after swapping your first number is:\",a)\n",
        "print(\"after swapping your second number is:\",b)"
      ],
      "execution_count": null,
      "outputs": [
        {
          "output_type": "stream",
          "text": [
            "enter first number:3\n",
            "enter second number:4\n",
            "after swapping your first number is: 4\n",
            "after swapping your second number is: 3\n"
          ],
          "name": "stdout"
        }
      ]
    },
    {
      "cell_type": "code",
      "metadata": {
        "id": "RjkR7SvqRhLJ"
      },
      "source": [
        ""
      ],
      "execution_count": null,
      "outputs": []
    }
  ]
}